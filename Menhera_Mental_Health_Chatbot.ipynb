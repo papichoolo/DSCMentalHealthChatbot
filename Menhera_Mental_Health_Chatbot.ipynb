{
  "nbformat": 4,
  "nbformat_minor": 0,
  "metadata": {
    "colab": {
      "provenance": [],
      "authorship_tag": "ABX9TyPEmIqXnbrfn0w/6jGMnckx",
      "include_colab_link": true
    },
    "kernelspec": {
      "name": "python3",
      "display_name": "Python 3"
    },
    "language_info": {
      "name": "python"
    }
  },
  "cells": [
    {
      "cell_type": "markdown",
      "metadata": {
        "id": "view-in-github",
        "colab_type": "text"
      },
      "source": [
        "<a href=\"https://colab.research.google.com/github/papichoolo/DSCMentalHealthChatbot/blob/main/Menhera_Mental_Health_Chatbot.ipynb\" target=\"_parent\"><img src=\"https://colab.research.google.com/assets/colab-badge.svg\" alt=\"Open In Colab\"/></a>"
      ]
    },
    {
      "cell_type": "markdown",
      "source": [
        "### Flow\n",
        "- Use GPTNeo gptq model as pipeline\n",
        "- Use langchain's huggingface pipeline to use the model\n",
        "- Use langchain's chain system to do the chat behaviour\n",
        "- Deploy in Gradio"
      ],
      "metadata": {
        "id": "IZ2zsqmyJ-2n"
      }
    },
    {
      "cell_type": "code",
      "execution_count": null,
      "metadata": {
        "id": "99UiMxRiJ6Cx"
      },
      "outputs": [],
      "source": []
    }
  ]
}